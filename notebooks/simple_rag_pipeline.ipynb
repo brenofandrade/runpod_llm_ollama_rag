{
 "cells": [
  {
   "cell_type": "code",
   "execution_count": null,
   "id": "d83f10a2-90db-4e4d-a3e5-0d398dd746f0",
   "metadata": {},
   "outputs": [],
   "source": [
    "import ollama\n"
   ]
  }
 ],
 "metadata": {
  "kernelspec": {
   "display_name": "Python 3 (ipykernel)",
   "language": "python",
   "name": "python3"
  },
  "language_info": {
   "codemirror_mode": {
    "name": "ipython",
    "version": 3
   },
   "file_extension": ".py",
   "mimetype": "text/x-python",
   "name": "python",
   "nbconvert_exporter": "python",
   "pygments_lexer": "ipython3",
   "version": "3.12.7"
  }
 },
 "nbformat": 4,
 "nbformat_minor": 5
}
