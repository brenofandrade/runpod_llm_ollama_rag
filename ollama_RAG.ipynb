{
 "cells": [
  {
   "cell_type": "markdown",
   "id": "d5d0ae72",
   "metadata": {},
   "source": [
    "## Chat\n",
    "\n",
    "### Assistente de documentos \n",
    "\n",
    "\n"
   ]
  },
  {
   "cell_type": "code",
   "execution_count": 1,
   "id": "1cba9f2a",
   "metadata": {},
   "outputs": [],
   "source": [
    "from langchain_ollama import ChatOllama\n",
    "from langchain_ollama import OllamaEmbeddings\n",
    "from langchain_ollama import OllamaLLM\n",
    "\n",
    "from IPython.display import display, Markdown"
   ]
  },
  {
   "cell_type": "code",
   "execution_count": 5,
   "id": "94b699fe",
   "metadata": {},
   "outputs": [
    {
     "data": {
      "text/markdown": [
       "AI, or Artificial Intelligence, refers to the development of computer systems that can perform tasks that typically require human intelligence, such as:\n",
       "\n",
       "1. Learning: AI systems can learn from data and improve their performance over time.\n",
       "2. Problem-solving: AI systems can solve complex problems and make decisions based on data and algorithms.\n",
       "3. Perception: AI systems can interpret and understand data from sensors, such as images and speech.\n",
       "4. Reasoning: AI systems can draw conclusions and make decisions based on logic and rules.\n",
       "\n",
       "There are several types of AI, including:\n",
       "\n",
       "1. Narrow or Weak AI: Designed to perform a specific task, such as facial recognition or language translation.\n",
       "2. General or Strong AI: Aims to create a system that can perform any intellectual task that humans can.\n",
       "3. Superintelligence: Significantly more intelligent than the best human minds.\n",
       "\n",
       "AI is used in many areas, including:\n",
       "\n",
       "1. Virtual assistants (e.g., Siri, Alexa)\n",
       "2. Image and speech recognition\n",
       "3. Predictive analytics and decision-making\n",
       "4. Autonomous vehicles\n",
       "5. Healthcare and medical diagnosis\n",
       "\n",
       "The field of AI is rapidly evolving, with new technologies and advancements emerging regularly.\n",
       "\n",
       "Some key concepts in AI include:\n",
       "\n",
       "* Machine learning: A type of AI that enables systems to learn from data without being explicitly programmed.\n",
       "* Deep learning: A subset of machine learning that uses neural networks to analyze data.\n",
       "* Natural language processing (NLP): The ability of a system to understand, interpret, and generate human language.\n",
       "\n",
       "AI has the potential to transform many industries and aspects of our lives, but it also raises important questions about ethics, responsibility, and the impact on society."
      ],
      "text/plain": [
       "<IPython.core.display.Markdown object>"
      ]
     },
     "metadata": {},
     "output_type": "display_data"
    }
   ],
   "source": [
    "model = \"llama3.2:latest\"\n",
    "\n",
    "llm = ChatOllama(model=model)\n",
    "response = llm.invoke(\"What is AI?\")\n",
    "\n",
    "display(Markdown(response.content))"
   ]
  },
  {
   "cell_type": "code",
   "execution_count": null,
   "id": "c2584f78",
   "metadata": {},
   "outputs": [
    {
     "name": "stdout",
     "output_type": "stream",
     "text": [
      "1024\n",
      "[-0.015132742, -0.0323724, 0.009370028, -0.038571354, -0.02837655]\n"
     ]
    }
   ],
   "source": [
    "embeddings = OllamaEmbeddings(model=\"mxbai-embed-large:latest\")\n",
    "vectorized_query = embeddings.embed_query(\"What is the meaning of Life?\")\n",
    "\n",
    "print(len(vectorized_query))\n",
    "print(vectorized_query[0:5])"
   ]
  },
  {
   "cell_type": "code",
   "execution_count": 4,
   "id": "5c64377f",
   "metadata": {},
   "outputs": [
    {
     "data": {
      "text/markdown": [
       "A question that has puzzled philosophers, theologians, scientists, and thinkers for centuries. The answer to this age-old question is not a straightforward one, as it can vary depending on cultural, personal, and philosophical perspectives.\n",
       "\n",
       "That being said, here are some possible meanings of life:\n",
       "\n",
       "1. **Biological perspective**: From a purely biological standpoint, the meaning of life is to survive and reproduce, ensuring the continuation of one's genes.\n",
       "2. **Philosophical perspective**: Philosophers have offered various interpretations of the meaning of life. Some argue that it is:\n",
       " * To seek happiness and fulfillment (eudaimonia)\n",
       " * To fulfill one's potential and become the best version of oneself\n",
       " * To create meaning through relationships, work, or other pursuits\n",
       " * To find purpose and significance in the world\n",
       "3. **Religious perspective**: Many religions offer their own answers to this question:\n",
       " * In Christianity, the meaning of life is to love God and follow His commandments.\n",
       " * In Buddhism, it is to attain enlightenment and liberation from suffering.\n",
       " * In Islam, it is to submit to Allah's will and fulfill one's duties as a Muslim.\n",
       "4. **Personal perspective**: Ultimately, the meaning of life can be found within an individual. It may be:\n",
       " * A personal goal or dream\n",
       " * A sense of purpose or passion\n",
       " * A desire for love, connection, and belonging\n",
       "5. **Existential perspective**: Existentialists argue that life has no inherent meaning; instead, we create our own purpose through our choices and actions.\n",
       "\n",
       "These are just a few examples, and the answer to this question is inherently subjective and personal.\n",
       "\n",
       "What do you think the meaning of life is?"
      ],
      "text/plain": [
       "<IPython.core.display.Markdown object>"
      ]
     },
     "metadata": {},
     "output_type": "display_data"
    }
   ],
   "source": [
    "llm = OllamaLLM(model=model)\n",
    "\n",
    "response = llm.invoke(\"The meaning of life is\")\n",
    "\n",
    "display(Markdown(response))"
   ]
  },
  {
   "cell_type": "markdown",
   "id": "9d1825ae",
   "metadata": {},
   "source": [
    "# Retrieval-Augmented Generation (RAG)\n",
    "\n",
    "Retrieval-Augmented Generation (RAG) is a technique used to improve the performance and factual accuracy of Large Language Models (LLMs) by combining them with external knowledge retrieval.\n",
    "\n",
    "🔍 What is RAG?\n",
    "RAG enhances LLMs by retrieving relevant information from external sources (like documents or databases) before generating a response. This helps the model answer questions or generate content based on up-to-date or domain-specific knowledge, rather than relying only on what it was trained on.\n",
    "\n",
    "---\n",
    "\n",
    "🧠 How It Works (Simplified Pipeline)\n",
    "Query Understanding:\n",
    "A user's input (question or prompt) is received.\n",
    "\n",
    "Retrieval Step:\n",
    "The system searches a document store or knowledge base (often using vector similarity search) to find relevant context.\n",
    "\n",
    "Augmentation:\n",
    "The retrieved information is combined with the original prompt.\n",
    "\n",
    "Generation:\n",
    "The LLM uses this augmented input to generate a more accurate, informed, and grounded response.\n",
    "\n",
    "---\n",
    "\n",
    "\n",
    "🧪 Example Use Case\n",
    "User prompt:\n",
    "\n",
    "\"What are the main takeaways from the latest Unimed annual report?\"\n",
    "\n",
    "Without RAG: The model might hallucinate or give general information.\n",
    "\n",
    "With RAG:\n",
    "\n",
    "Retrieve the most relevant pages from the uploaded PDF.\n",
    "\n",
    "Provide a summary grounded in real data.\n",
    "\n",
    "---\n",
    "\n",
    "✅ Benefits\n",
    "Reduces hallucination\n",
    "\n",
    "Adds up-to-date or private knowledge\n",
    "\n",
    "Supports enterprise-specific applications\n",
    "\n",
    "❌ Limitations\n",
    "Retrieval quality affects generation\n",
    "\n",
    "Requires careful setup of vector search\n",
    "\n",
    "More complex architecture"
   ]
  },
  {
   "cell_type": "code",
   "execution_count": null,
   "id": "d6676c5e",
   "metadata": {},
   "outputs": [],
   "source": []
  }
 ],
 "metadata": {
  "kernelspec": {
   "display_name": "env",
   "language": "python",
   "name": "python3"
  },
  "language_info": {
   "codemirror_mode": {
    "name": "ipython",
    "version": 3
   },
   "file_extension": ".py",
   "mimetype": "text/x-python",
   "name": "python",
   "nbconvert_exporter": "python",
   "pygments_lexer": "ipython3",
   "version": "3.12.7"
  }
 },
 "nbformat": 4,
 "nbformat_minor": 5
}
